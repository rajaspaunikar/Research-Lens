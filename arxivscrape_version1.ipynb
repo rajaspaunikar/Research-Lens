{
 "cells": [
  {
   "cell_type": "code",
   "execution_count": 84,
   "id": "65df32a6-7167-44d3-8052-4a9cb29b7671",
   "metadata": {},
   "outputs": [],
   "source": [
    "import requests\n",
    "from bs4 import BeautifulSoup"
   ]
  },
  {
   "cell_type": "code",
   "execution_count": 85,
   "id": "bfc31f2c-a68c-417e-b70a-4efdb12ce3c5",
   "metadata": {},
   "outputs": [
    {
     "name": "stdin",
     "output_type": "stream",
     "text": [
      "Enter your search term for arXiv:  physics\n",
      "Enter how many Papers per page (can only input number [50,100,150,200] only):  50\n",
      "Enter how many pages to scrape (each has above mentioned papers):  3\n"
     ]
    }
   ],
   "source": [
    "#Getting user inputs\n",
    "query = input(\"Enter your search term for arXiv: \").strip() #what you need to search in arxiv\n",
    "num_papers = int(input(\"Enter how many Papers per page (can only input number [50,100,150,200] only): \").strip())\n",
    "num_pages = int(input(\"Enter how many pages to scrape (each has above mentioned papers): \").strip())"
   ]
  },
  {
   "cell_type": "code",
   "execution_count": 86,
   "id": "895f5c5a-113f-4b99-a726-b3e6b06d435e",
   "metadata": {},
   "outputs": [
    {
     "name": "stdout",
     "output_type": "stream",
     "text": [
      "Scraping 150 Papers...\n",
      "\n",
      "Related to 'physics'\n",
      "\n"
     ]
    }
   ],
   "source": [
    "#Just printing what we are going to scrape and how many \n",
    "total_papers=num_papers*num_pages\n",
    "print(f\"Scraping {total_papers} Papers...\\n\")\n",
    "print(f\"Related to '{query}'\\n\")"
   ]
  },
  {
   "cell_type": "code",
   "execution_count": 87,
   "id": "9dc193df-894d-4fdb-a0e3-d8c048044c0b",
   "metadata": {},
   "outputs": [],
   "source": [
    "#Url creation according to arxiv \n",
    "base_url = \"https://arxiv.org/search/\"\n",
    "params = {\n",
    "    \"query\": query,\n",
    "    \"searchtype\": \"all\",\n",
    "    \"abstracts\": \"show\",\n",
    "    \"order\": \"-announced_date_first\",  \n",
    "    \"size\": num_papers                       \n",
    "}"
   ]
  },
  {
   "cell_type": "code",
   "execution_count": 88,
   "id": "c7d30b46-2466-43b2-900c-45984b3f279d",
   "metadata": {},
   "outputs": [],
   "source": [
    "urll = f\"{base_url}?{urllib.parse.urlencode(params)}\"\n",
    "papers=[]"
   ]
  },
  {
   "cell_type": "code",
   "execution_count": 89,
   "id": "18161cc6-9223-43f4-bec8-9988d4df6471",
   "metadata": {},
   "outputs": [],
   "source": [
    "response = requests.get(url)\n",
    "response.raise_for_status()"
   ]
  },
  {
   "cell_type": "code",
   "execution_count": 90,
   "id": "57903be2-0c52-48b1-96d0-7e5fe545e248",
   "metadata": {},
   "outputs": [],
   "source": [
    "#debugiing\n",
    "#a=\"&start=100\"\n",
    "#x=f\"{url}{a}\"\n",
    "#x"
   ]
  },
  {
   "cell_type": "code",
   "execution_count": 91,
   "id": "5620a48a-948e-40f9-89f5-0b0dceb04f1f",
   "metadata": {},
   "outputs": [
    {
     "name": "stdout",
     "output_type": "stream",
     "text": [
      "fetching page number 0\n",
      " https://arxiv.org/search/?query=physics&searchtype=all&abstracts=show&order=-announced_date_first&size=50&start=0\n",
      "fetching page number 1\n",
      " https://arxiv.org/search/?query=physics&searchtype=all&abstracts=show&order=-announced_date_first&size=50&start=50\n",
      "fetching page number 2\n",
      " https://arxiv.org/search/?query=physics&searchtype=all&abstracts=show&order=-announced_date_first&size=50&start=100\n"
     ]
    }
   ],
   "source": [
    "for page in range(num_pages):\n",
    "    start0 = page * num_papers\n",
    "    start1 =f\"&start={start0}\"\n",
    "    url = f\"{urll}{start1}\"\n",
    "    print(f\"fetching page number {page}\\n {url}\")\n",
    "\n",
    "    response = requests.get(url)\n",
    "    response.raise_for_status() #if http request failed show error message\n",
    "\n",
    "    soup = BeautifulSoup(response.text, \"html.parser\") #creating soup object for futher extracion\n",
    "\n",
    "    for item in soup.select(\"li.arxiv-result\"): #\"li.arxiv-result\"  is the tag that for each paper section so this will iterate over all in current page\n",
    "        #extracting title of paper\n",
    "        title_tag = item.select_one(\"p.title\")\n",
    "        title = title_tag.get_text(strip=True) if title_tag else \"No Title Found\"\n",
    "\n",
    "        #extract publication info, date, .... \n",
    "        meta_tag = item.select_one(\"p.is-size-7\")\n",
    "        meta_text = meta_tag.get_text(\" \", strip=True) if meta_tag else \"No metadata found\"\n",
    "        \n",
    "        #extracting Abstract\n",
    "        abstract_tag = item.select_one(\"span.abstract-full\")\n",
    "        abstract = abstract_tag.get_text(strip=True) if abstract_tag else \"No Abstract Found\"\n",
    "\n",
    "        #saving each in to papers\n",
    "        papers.append((title, meta_text, abstract))\n",
    "\n",
    "        \n",
    "    "
   ]
  },
  {
   "cell_type": "code",
   "execution_count": 92,
   "id": "a502142a-b650-462b-8189-19833a7c2e8f",
   "metadata": {},
   "outputs": [],
   "source": [
    "filename = f\"arxiv_{query}_{total_papers}:papers_latest.txt\"\n",
    "\n",
    "with open(filename, \"w\", encoding=\"utf-8\") as f:\n",
    "    for idx, (title,meta_text, abstract) in enumerate(papers, 1):\n",
    "        f.write(f\"Paper {idx}:\\n\")\n",
    "        f.write(f\"Title   : {title}\\n\")\n",
    "        f.write(f\"Source  : {meta_text}\\n\")\n",
    "        f.write(f\"Abstract: {abstract}\\n\")\n",
    "        f.write(\"\\n\"+\"-\"*100+\"\\n\\n\")"
   ]
  },
  {
   "cell_type": "code",
   "execution_count": null,
   "id": "5578d5bc-66a0-4764-8454-cad34510616f",
   "metadata": {},
   "outputs": [],
   "source": []
  }
 ],
 "metadata": {
  "kernelspec": {
   "display_name": "Python 3 (ipykernel)",
   "language": "python",
   "name": "python3"
  },
  "language_info": {
   "codemirror_mode": {
    "name": "ipython",
    "version": 3
   },
   "file_extension": ".py",
   "mimetype": "text/x-python",
   "name": "python",
   "nbconvert_exporter": "python",
   "pygments_lexer": "ipython3",
   "version": "3.12.3"
  }
 },
 "nbformat": 4,
 "nbformat_minor": 5
}
