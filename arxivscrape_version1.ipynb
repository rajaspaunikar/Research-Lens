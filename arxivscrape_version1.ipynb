{
 "cells": [
  {
   "cell_type": "code",
   "execution_count": 15,
   "id": "65df32a6-7167-44d3-8052-4a9cb29b7671",
   "metadata": {},
   "outputs": [],
   "source": [
    "import requests\n",
    "from bs4 import BeautifulSoup\n",
    "import urllib.parse"
   ]
  },
  {
   "cell_type": "code",
   "execution_count": 16,
   "id": "bfc31f2c-a68c-417e-b70a-4efdb12ce3c5",
   "metadata": {},
   "outputs": [
    {
     "name": "stdin",
     "output_type": "stream",
     "text": [
      "Enter your search term for arXiv:  micro architecture\n",
      "Enter how many Papers per page (can only input number [50,100,150,200] only):  50\n",
      "Enter how many pages to scrape (each has above mentioned papers):  1\n"
     ]
    }
   ],
   "source": [
    "#Getting user inputs\n",
    "query = input(\"Enter your search term for arXiv: \").strip() #what you need to search in arxiv\n",
    "num_papers = int(input(\"Enter how many Papers per page (can only input number [50,100,150,200] only): \").strip())\n",
    "num_pages = int(input(\"Enter how many pages to scrape (each has above mentioned papers): \").strip())"
   ]
  },
  {
   "cell_type": "code",
   "execution_count": 17,
   "id": "895f5c5a-113f-4b99-a726-b3e6b06d435e",
   "metadata": {},
   "outputs": [
    {
     "name": "stdout",
     "output_type": "stream",
     "text": [
      "Scraping 50 Papers...\n",
      "\n",
      "Related to 'micro architecture'\n",
      "\n"
     ]
    }
   ],
   "source": [
    "#Just printing what we are going to scrape and how many \n",
    "total_papers=num_papers*num_pages\n",
    "print(f\"Scraping {total_papers} Papers...\\n\")\n",
    "print(f\"Related to '{query}'\\n\")"
   ]
  },
  {
   "cell_type": "code",
   "execution_count": 18,
   "id": "9dc193df-894d-4fdb-a0e3-d8c048044c0b",
   "metadata": {},
   "outputs": [],
   "source": [
    "#Url creation according to arxiv \n",
    "base_url = \"https://arxiv.org/search/\"\n",
    "params = {\n",
    "    \"query\": query,\n",
    "    \"searchtype\": \"all\",\n",
    "    \"abstracts\": \"show\",\n",
    "    \"order\": \"-announced_date_first\",  \n",
    "    \"size\": num_papers                       \n",
    "}"
   ]
  },
  {
   "cell_type": "code",
   "execution_count": 19,
   "id": "c7d30b46-2466-43b2-900c-45984b3f279d",
   "metadata": {},
   "outputs": [
    {
     "data": {
      "text/plain": [
       "'https://arxiv.org/search/?query=micro+architecture&searchtype=all&abstracts=show&order=-announced_date_first&size=50'"
      ]
     },
     "execution_count": 19,
     "metadata": {},
     "output_type": "execute_result"
    }
   ],
   "source": [
    "url = f\"{base_url}?{urllib.parse.urlencode(params)}\"\n",
    "url"
   ]
  },
  {
   "cell_type": "code",
   "execution_count": null,
   "id": "57903be2-0c52-48b1-96d0-7e5fe545e248",
   "metadata": {},
   "outputs": [],
   "source": []
  }
 ],
 "metadata": {
  "kernelspec": {
   "display_name": "Python 3 (ipykernel)",
   "language": "python",
   "name": "python3"
  },
  "language_info": {
   "codemirror_mode": {
    "name": "ipython",
    "version": 3
   },
   "file_extension": ".py",
   "mimetype": "text/x-python",
   "name": "python",
   "nbconvert_exporter": "python",
   "pygments_lexer": "ipython3",
   "version": "3.12.3"
  }
 },
 "nbformat": 4,
 "nbformat_minor": 5
}
